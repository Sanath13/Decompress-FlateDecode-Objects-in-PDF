{
 "cells": [
  {
   "cell_type": "code",
   "execution_count": 9,
   "metadata": {},
   "outputs": [],
   "source": [
    "import re\n",
    "import zlib\n",
    "\n",
    "pdf = open(\"/CIE-2.pdf\", \"rb\").read()\n",
    "stream = re.compile(rb'.*?FlateDecode.*?stream(.*?)endstream', re.S)\n",
    "\n",
    "f = open('Decompressed_output2.txt', 'a')\n",
    "\n",
    "for s in stream.findall(pdf):\n",
    "    s = s.strip(b'\\r\\n')\n",
    "    try:\n",
    "        decompressed = zlib.decompress(s).decode('UTF-8')\n",
    "\n",
    "        f.write(str(decompressed))\n",
    "\n",
    "    except:\n",
    "        pass\n",
    "f.close()"
   ]
  }
 ],
 "metadata": {
  "kernelspec": {
   "display_name": "Python 3",
   "language": "python",
   "name": "python3"
  },
  "language_info": {
   "codemirror_mode": {
    "name": "ipython",
    "version": 3
   },
   "file_extension": ".py",
   "mimetype": "text/x-python",
   "name": "python",
   "nbconvert_exporter": "python",
   "pygments_lexer": "ipython3",
   "version": "3.8.5"
  }
 },
 "nbformat": 4,
 "nbformat_minor": 4
}

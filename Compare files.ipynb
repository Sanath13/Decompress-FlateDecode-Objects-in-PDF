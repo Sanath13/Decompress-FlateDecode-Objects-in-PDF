{
 "cells": [
  {
   "cell_type": "code",
   "execution_count": 1,
   "metadata": {},
   "outputs": [],
   "source": [
    "import difflib\n",
    "\n",
    "first_file = \"Decompressed_output1.txt\"\n",
    "second_file = \"Decompressed_output2.txt\"\n",
    "\n",
    "first_file_lines = open(first_file).readlines()\n",
    "second_file_lines = open(second_file).readlines()\n",
    "\n",
    "difference = difflib.HtmlDiff().make_file(first_file_lines, second_file_lines, first_file, second_file)\n",
    "\n",
    "difference_report = open('difference_report1.html', 'w')\n",
    "difference_report.write(difference)\n",
    "difference_report.close()"
   ]
  }
 ],
 "metadata": {
  "kernelspec": {
   "display_name": "Python 3",
   "language": "python",
   "name": "python3"
  },
  "language_info": {
   "codemirror_mode": {
    "name": "ipython",
    "version": 3
   },
   "file_extension": ".py",
   "mimetype": "text/x-python",
   "name": "python",
   "nbconvert_exporter": "python",
   "pygments_lexer": "ipython3",
   "version": "3.8.5"
  }
 },
 "nbformat": 4,
 "nbformat_minor": 4
}
